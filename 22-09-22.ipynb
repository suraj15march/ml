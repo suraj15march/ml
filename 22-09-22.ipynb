{
 "cells": [
  {
   "cell_type": "code",
   "execution_count": 2,
   "id": "75bf76c0",
   "metadata": {},
   "outputs": [
    {
     "name": "stdout",
     "output_type": "stream",
     "text": [
      "hello world\n"
     ]
    }
   ],
   "source": [
    "print(\"hello world\")"
   ]
  },
  {
   "cell_type": "code",
   "execution_count": 3,
   "id": "f9884d52",
   "metadata": {},
   "outputs": [
    {
     "name": "stdout",
     "output_type": "stream",
     "text": [
      "Enter 1st number5\n",
      "Enter 2nd number10\n",
      "15\n"
     ]
    }
   ],
   "source": [
    "a=int(input(\"Enter 1st number\"))\n",
    "b=int(input(\"Enter 2nd number\"))\n",
    "print(a+b)"
   ]
  },
  {
   "cell_type": "code",
   "execution_count": 5,
   "id": "e34ab699",
   "metadata": {},
   "outputs": [
    {
     "name": "stdout",
     "output_type": "stream",
     "text": [
      "Enter no. of elements5\n",
      "1 2 3 4 5\n",
      "Enter element to search1\n",
      "Element found at position 0\n"
     ]
    }
   ],
   "source": [
    "#Binary serach\n",
    "def search(a,key):\n",
    "    l=0\n",
    "    e=len(a)-1\n",
    "    while(l<=e):\n",
    "        mid=(l+e)//2\n",
    "        if(a[mid]==key):\n",
    "            return mid\n",
    "        elif(key>a[mid]):\n",
    "            l=mid+1\n",
    "        else:\n",
    "            e=mid-1\n",
    "    return -1\n",
    "n=int(input(\"Enter no. of elements\"))\n",
    "li=list(map(int,input().split()))\n",
    "key=int(input(\"Enter element to search\"))\n",
    "pos=search(li,key)\n",
    "if(pos==-1):\n",
    "    print(\"Element not found\")\n",
    "else:\n",
    "    print(\"Element found at position\",pos)\n",
    "            "
   ]
  },
  {
   "cell_type": "code",
   "execution_count": 6,
   "id": "83d662d0",
   "metadata": {},
   "outputs": [
    {
     "name": "stdout",
     "output_type": "stream",
     "text": [
      "Enter 1st number5\n",
      "Enter 2nd number10\n",
      "After swaping 10 5\n"
     ]
    }
   ],
   "source": [
    "#Swap two numbers\n",
    "a=int(input(\"Enter 1st number\"))\n",
    "b=int(input(\"Enter 2nd number\"))\n",
    "a,b=b,a\n",
    "print(\"After swaping\",a,b)"
   ]
  },
  {
   "cell_type": "code",
   "execution_count": 9,
   "id": "f8af07fb",
   "metadata": {},
   "outputs": [
    {
     "name": "stdout",
     "output_type": "stream",
     "text": [
      "Enter no. of elements5\n",
      "4 3 7 6 2 1\n",
      "[1, 2, 3, 4, 6, 7]\n"
     ]
    }
   ],
   "source": [
    "#Selection sort\n",
    "def sort(a):\n",
    "    n=len(a)\n",
    "    for i in range(n):\n",
    "        min_index=i\n",
    "        for j in range(i+1,n):\n",
    "            if(a[j]<a[min_index]):\n",
    "                min_index=j\n",
    "        a[min_index],a[i]=a[i],a[min_index]\n",
    "    print(a)\n",
    "            \n",
    "n=int(input(\"Enter no. of elements\"))\n",
    "li=list(map(int,input().split()))\n",
    "sort(li)"
   ]
  },
  {
   "cell_type": "code",
   "execution_count": 13,
   "id": "a498bb6f",
   "metadata": {},
   "outputs": [
    {
     "name": "stdout",
     "output_type": "stream",
     "text": [
      "1 2 3 4 5 1 2 3 4 5 3 4 5 6 7 4\n",
      "{1: 2, 2: 2, 3: 3, 4: 4, 5: 3, 6: 1, 7: 1}\n"
     ]
    }
   ],
   "source": [
    "#Dictionaries\n",
    "li=list(map(int,input().split()))\n",
    "d=dict()\n",
    "for ele in li:\n",
    "    if ele in d:\n",
    "        d[ele]+=1\n",
    "    else:\n",
    "        d[ele]=1\n",
    "print(d)\n"
   ]
  },
  {
   "cell_type": "code",
   "execution_count": 14,
   "id": "90017e0f",
   "metadata": {},
   "outputs": [
    {
     "name": "stdout",
     "output_type": "stream",
     "text": [
      "1 2 3 3 2 1 4 2 1 3 4 2 1 3 4\n",
      "{1, 2, 3, 4}\n"
     ]
    }
   ],
   "source": [
    "#SET\n",
    "li=list(map(int,input().split()))\n",
    "print(set(li))"
   ]
  },
  {
   "cell_type": "code",
   "execution_count": 17,
   "id": "2bb9187e",
   "metadata": {},
   "outputs": [
    {
     "name": "stdout",
     "output_type": "stream",
     "text": [
      "1\n",
      "2\n",
      "3\n",
      "4\n",
      "5\n"
     ]
    }
   ],
   "source": [
    "#Tuple\n",
    "t=(1,2,3,4,5)\n",
    "for ele in t:\n",
    "    print(ele)"
   ]
  },
  {
   "cell_type": "code",
   "execution_count": 1,
   "id": "9166455d",
   "metadata": {},
   "outputs": [
    {
     "name": "stdout",
     "output_type": "stream",
     "text": [
      "My name is TH LAKSHANA\n"
     ]
    }
   ],
   "source": [
    "f=open(\"file.txt\",\"r\")\n",
    "print(f.read())"
   ]
  }
 ],
 "metadata": {
  "kernelspec": {
   "display_name": "Python 3 (ipykernel)",
   "language": "python",
   "name": "python3"
  },
  "language_info": {
   "codemirror_mode": {
    "name": "ipython",
    "version": 3
   },
   "file_extension": ".py",
   "mimetype": "text/x-python",
   "name": "python",
   "nbconvert_exporter": "python",
   "pygments_lexer": "ipython3",
   "version": "3.8.10"
  }
 },
 "nbformat": 4,
 "nbformat_minor": 5
}
