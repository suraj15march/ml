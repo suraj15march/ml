{
 "cells": [
  {
   "cell_type": "code",
   "execution_count": 1,
   "id": "f0427dec",
   "metadata": {},
   "outputs": [],
   "source": [
    "def getMean(numbers):\n",
    "    if len(numbers) == 0:\n",
    "        return None\n",
    "    else:\n",
    "        current_sum = 0\n",
    "        for i in numbers:\n",
    "            current_sum += i\n",
    "            current_avg = current_sum/len(numbers)\n",
    "        return current_avg"
   ]
  },
  {
   "cell_type": "code",
   "execution_count": 2,
   "id": "edff2e83",
   "metadata": {},
   "outputs": [
    {
     "data": {
      "text/plain": [
       "25.0"
      ]
     },
     "execution_count": 2,
     "metadata": {},
     "output_type": "execute_result"
    }
   ],
   "source": [
    "getMean([10,20,30,40])"
   ]
  },
  {
   "cell_type": "code",
   "execution_count": 12,
   "id": "10eb07ef",
   "metadata": {},
   "outputs": [],
   "source": [
    "def getMedian(numbers):\n",
    "    if len(numbers) == 0:\n",
    "        return None\n",
    "    else:\n",
    "        numbers.sort()\n",
    "        middle_index = len(numbers)//2\n",
    "        return numbers[middle_index]"
   ]
  },
  {
   "cell_type": "code",
   "execution_count": 13,
   "id": "84377d49",
   "metadata": {},
   "outputs": [
    {
     "data": {
      "text/plain": [
       "30"
      ]
     },
     "execution_count": 13,
     "metadata": {},
     "output_type": "execute_result"
    }
   ],
   "source": [
    "getMedian([10,20,30,40])"
   ]
  },
  {
   "cell_type": "code",
   "execution_count": 16,
   "id": "d3f687e9",
   "metadata": {},
   "outputs": [],
   "source": [
    "def getMode(numbers):\n",
    "    max_occur = -1\n",
    "    if len(numbers) == 0:\n",
    "        return None\n",
    "    else:\n",
    "        res = numbers[0]\n",
    "        occurences = {}\n",
    "        for i in numbers:\n",
    "            if occurences.get(i) == None:\n",
    "                occurences[i] = 1\n",
    "            else:\n",
    "                occurences[i] += 1\n",
    "            if occurences[i] > max_occur:\n",
    "                max_occur = occurences[i]\n",
    "                res = i\n",
    "        return res\n",
    "    return None"
   ]
  },
  {
   "cell_type": "code",
   "execution_count": 18,
   "id": "02a08956",
   "metadata": {},
   "outputs": [
    {
     "data": {
      "text/plain": [
       "3"
      ]
     },
     "execution_count": 18,
     "metadata": {},
     "output_type": "execute_result"
    }
   ],
   "source": [
    "getMode([1,2,2,2,2,3,3,3,3,3,3,4,4,4,4,4])"
   ]
  },
  {
   "cell_type": "code",
   "execution_count": 19,
   "id": "f963c3bd",
   "metadata": {},
   "outputs": [],
   "source": [
    "def getStandardDeviation(numbers):\n",
    "    if len(numbers) == 0:\n",
    "        return 0\n",
    "    else:\n",
    "        mean = getMean(numbers)\n",
    "        std_deviation = 0\n",
    "        for i in numbers:\n",
    "            std_deviation += (i - mean)**2\n",
    "        return (std_deviation/len(numbers))**0.5"
   ]
  },
  {
   "cell_type": "code",
   "execution_count": 20,
   "id": "95a3ef3f",
   "metadata": {},
   "outputs": [
    {
     "data": {
      "text/plain": [
       "14.142135623730951"
      ]
     },
     "execution_count": 20,
     "metadata": {},
     "output_type": "execute_result"
    }
   ],
   "source": [
    "getStandardDeviation([10,20,30,40,50])"
   ]
  },
  {
   "cell_type": "code",
   "execution_count": 21,
   "id": "03b41b2f",
   "metadata": {},
   "outputs": [],
   "source": [
    "def getVariance(numbers):\n",
    "    return getStandardDeviation(numbers)**2"
   ]
  },
  {
   "cell_type": "code",
   "execution_count": 22,
   "id": "5547648c",
   "metadata": {},
   "outputs": [
    {
     "data": {
      "text/plain": [
       "200.00000000000003"
      ]
     },
     "execution_count": 22,
     "metadata": {},
     "output_type": "execute_result"
    }
   ],
   "source": [
    "getVariance([10,20,30,40,50])"
   ]
  },
  {
   "cell_type": "code",
   "execution_count": 23,
   "id": "d8c17f84",
   "metadata": {},
   "outputs": [],
   "source": [
    "def getNormalization(features):\n",
    "    x_min = min(features)\n",
    "    x_max = max(features)\n",
    "    normalized_vals = []\n",
    "    for i in features:\n",
    "        normalized_vals.append((i - x_min)/(x_max - x_min))\n",
    "    return normalized_vals"
   ]
  },
  {
   "cell_type": "code",
   "execution_count": 24,
   "id": "c129e937",
   "metadata": {},
   "outputs": [
    {
     "data": {
      "text/plain": [
       "[0.0, 0.3333333333333333, 0.6666666666666666, 1.0]"
      ]
     },
     "execution_count": 24,
     "metadata": {},
     "output_type": "execute_result"
    }
   ],
   "source": [
    "getNormalization([10,20,30,40])"
   ]
  },
  {
   "cell_type": "code",
   "execution_count": 25,
   "id": "f04f734c",
   "metadata": {},
   "outputs": [],
   "source": [
    "def getStandardization(features):\n",
    "    mean = getMean(features)\n",
    "    std_deviation = getStandardDeviation(features)\n",
    "    standardized_vals = []\n",
    "    for i in features:\n",
    "        standardized_vals.append((i - mean)/std_deviation)\n",
    "    return standardized_vals"
   ]
  },
  {
   "cell_type": "code",
   "execution_count": 26,
   "id": "c99458b4",
   "metadata": {},
   "outputs": [
    {
     "data": {
      "text/plain": [
       "[-1.3416407864998738,\n",
       " -0.4472135954999579,\n",
       " 0.4472135954999579,\n",
       " 1.3416407864998738]"
      ]
     },
     "execution_count": 26,
     "metadata": {},
     "output_type": "execute_result"
    }
   ],
   "source": [
    "getStandardization([10,20,30,40])"
   ]
  },
  {
   "cell_type": "code",
   "execution_count": 27,
   "id": "799db37c",
   "metadata": {},
   "outputs": [],
   "source": [
    "def doMinMaxNormalization(numbers):\n",
    "    result = []\n",
    "    if len(numbers) == 0:\n",
    "        return result\n",
    "    else:\n",
    "        min_value = min(numbers)\n",
    "        max_value = max(numbers)\n",
    "        for i in numbers:\n",
    "            result.append((i - min_value)/(max_value - min_value))\n",
    "        return result"
   ]
  },
  {
   "cell_type": "code",
   "execution_count": 28,
   "id": "c781efad",
   "metadata": {},
   "outputs": [
    {
     "name": "stdout",
     "output_type": "stream",
     "text": [
      "[1.0, 0.0, 0.0005199896002079958, 0.0001399972000559989, 0.007019859602807944, 0.09001819963600728]\n"
     ]
    }
   ],
   "source": [
    "features = [100000,-2,50,12,700,9000]\n",
    "print(doMinMaxNormalization(features))"
   ]
  },
  {
   "cell_type": "code",
   "execution_count": null,
   "id": "e90cf494",
   "metadata": {},
   "outputs": [],
   "source": []
  }
 ],
 "metadata": {
  "kernelspec": {
   "display_name": "Python 3 (ipykernel)",
   "language": "python",
   "name": "python3"
  },
  "language_info": {
   "codemirror_mode": {
    "name": "ipython",
    "version": 3
   },
   "file_extension": ".py",
   "mimetype": "text/x-python",
   "name": "python",
   "nbconvert_exporter": "python",
   "pygments_lexer": "ipython3",
   "version": "3.10.5"
  }
 },
 "nbformat": 4,
 "nbformat_minor": 5
}
