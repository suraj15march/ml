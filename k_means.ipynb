{
 "cells": [
  {
   "cell_type": "code",
   "execution_count": 3,
   "metadata": {},
   "outputs": [],
   "source": [
    "import numpy as np\n",
    "import pandas as pd\n",
    "import matplotlib.pyplot as plt"
   ]
  },
  {
   "cell_type": "code",
   "execution_count": 4,
   "metadata": {},
   "outputs": [
    {
     "name": "stdout",
     "output_type": "stream",
     "text": [
      "     x    y\n",
      "0  5.9  3.2\n",
      "1  4.6  2.9\n",
      "2  6.2  2.8\n",
      "3  4.7  3.2\n",
      "4  5.5  4.2\n",
      "5  5.0  3.0\n",
      "6  4.9  3.1\n",
      "7  6.7  3.1\n",
      "8  5.1  3.8\n",
      "9  6.0  3.0\n"
     ]
    }
   ],
   "source": [
    "df=pd.read_csv(\"kmeans.csv\")\n",
    "print(df)\n"
   ]
  },
  {
   "cell_type": "code",
   "execution_count": 5,
   "metadata": {},
   "outputs": [
    {
     "data": {
      "text/plain": [
       "Text(0, 0.5, 'Y1')"
      ]
     },
     "execution_count": 5,
     "metadata": {},
     "output_type": "execute_result"
    },
    {
     "data": {
      "image/png": "[encoded data removed]",
      "text/plain": [
       "<Figure size 432x288 with 1 Axes>"
      ]
     },
     "metadata": {
      "needs_background": "light"
     },
     "output_type": "display_data"
    }
   ],
   "source": [
    "plt.scatter(df['x'],df['y'],c='red')\n",
    "plt.xlabel(\"X1\")\n",
    "plt.ylabel(\"Y1\")"
   ]
  },
  {
   "cell_type": "code",
   "execution_count": 6,
   "metadata": {},
   "outputs": [
    {
     "name": "stdout",
     "output_type": "stream",
     "text": [
      "[5.9 4.6 6.2 4.7 5.5 5.  4.9 6.7 5.1 6. ]\n",
      "[3.2 2.9 2.8 3.2 4.2 3.  3.1 3.1 3.8 3. ]\n"
     ]
    }
   ],
   "source": [
    "x_array=df['x'].values\n",
    "y_array=df['y'].values\n",
    "print(x_array)\n",
    "print(y_array)"
   ]
  },
  {
   "cell_type": "code",
   "execution_count": 7,
   "metadata": {},
   "outputs": [
    {
     "data": {
      "text/plain": [
       "array([[5.9, 3.2],\n",
       "       [4.6, 2.9],\n",
       "       [6.2, 2.8],\n",
       "       [4.7, 3.2],\n",
       "       [5.5, 4.2],\n",
       "       [5. , 3. ],\n",
       "       [4.9, 3.1],\n",
       "       [6.7, 3.1],\n",
       "       [5.1, 3.8],\n",
       "       [6. , 3. ]])"
      ]
     },
     "execution_count": 7,
     "metadata": {},
     "output_type": "execute_result"
    }
   ],
   "source": [
    "xy=np.array(list(zip(x_array,y_array)))\n",
    "xy"
   ]
  },
  {
   "cell_type": "code",
   "execution_count": 9,
   "metadata": {},
   "outputs": [],
   "source": [
    "C_x=[6.2,6.6,6.5]\n",
    "C_y=[3.2,3.7,3.0]"
   ]
  },
  {
   "cell_type": "code",
   "execution_count": 10,
   "metadata": {},
   "outputs": [
    {
     "data": {
      "text/plain": [
       "array([[6.2, 3.2],\n",
       "       [6.6, 3.7],\n",
       "       [6.5, 3. ]])"
      ]
     },
     "execution_count": 10,
     "metadata": {},
     "output_type": "execute_result"
    }
   ],
   "source": [
    "centroid=np.array(list(zip(C_x,C_y)),dtype=float)\n",
    "centroid"
   ]
  },
  {
   "cell_type": "code",
   "execution_count": 24,
   "metadata": {},
   "outputs": [
    {
     "data": {
      "text/plain": [
       "array([[0., 0.],\n",
       "       [0., 0.],\n",
       "       [0., 0.]])"
      ]
     },
     "execution_count": 24,
     "metadata": {},
     "output_type": "execute_result"
    }
   ],
   "source": [
    "initial_centroid=np.zeros(centroid.shape)\n",
    "initial_centroid"
   ]
  },
  {
   "cell_type": "code",
   "execution_count": 26,
   "metadata": {},
   "outputs": [
    {
     "data": {
      "text/plain": [
       "array([0., 0., 0., 0., 0., 0., 0., 0., 0., 0.])"
      ]
     },
     "execution_count": 26,
     "metadata": {},
     "output_type": "execute_result"
    }
   ],
   "source": [
    "clusters=np.zeros(len(df['x']))\n",
    "clusters"
   ]
  },
  {
   "cell_type": "code",
   "execution_count": 13,
   "metadata": {},
   "outputs": [],
   "source": [
    "def getSquaredDistance (point1, point2):\n",
    "\n",
    "    return round (((point2[0] - point1 [0])**2 + (point2 [1] -point1 [1])**2), 4)\n",
    "\n",
    "def getDistanceFromPoints (centroids, datapoints):\n",
    "\n",
    "    distance_from_cluster = [] \n",
    "    # [clusterl_distances, cluster2_distances,...] \n",
    "    intermediate_result = []\n",
    "\n",
    "    for i in centroids:\n",
    "\n",
    "        for j in datapoints:\n",
    "\n",
    "            intermediate_result.append(getSquaredDistance(i ,j))\n",
    "\n",
    "        distance_from_cluster.append(intermediate_result)\n",
    "        intermediate_result = [] #reset intermediate result as empty list\n",
    "    return distance_from_cluster\n",
    "\n",
    "\n",
    "def printResult (centroids,point_to_cluster_mapping):\n",
    "\n",
    "    for i in range (len (centroids)): \n",
    "        print (\"Centroid\", i, centroids [i])\n",
    "\n",
    "    for i in point_to_cluster_mapping: \n",
    "        print (\"Point: \",i, \"Cluster:\",point_to_cluster_mapping[i])\n",
    "\n",
    "def kmeansclustering (centroids, datapoints): \n",
    "\n",
    "    k = len(centroids)\n",
    "\n",
    "    distance_from_cluster=getDistanceFromPoints (centroids, datapoints)\n",
    "\n",
    "#assign each datapoint to the nearest cluster\n",
    "\n",
    "    point_to_cluster_mapping = dict() #point ->cluster\n",
    "\n",
    "    max_valued_cluster = 0 \n",
    "    for i in range (len (datapoints)): \n",
    "        point_to_cluster_mapping[i]= None \n",
    "        for cluster in range (len(centroids)):\n",
    "            if distance_from_cluster[cluster][i] < distance_from_cluster [max_valued_cluster] [i]: \n",
    "                max_valued_cluster=cluster \n",
    "            point_to_cluster_mapping[i] = max_valued_cluster\n",
    "    printResult(centroids,point_to_cluster_mapping)\n",
    "\n",
    "    "
   ]
  },
  {
   "cell_type": "code",
   "execution_count": 14,
   "metadata": {},
   "outputs": [
    {
     "name": "stdout",
     "output_type": "stream",
     "text": [
      "Centroid 0 [6.2 3.2]\n",
      "Centroid 1 [6.6 3.7]\n",
      "Centroid 2 [6.5 3. ]\n",
      "Point:  0 Cluster: 0\n",
      "Point:  1 Cluster: 0\n",
      "Point:  2 Cluster: 2\n",
      "Point:  3 Cluster: 0\n",
      "Point:  4 Cluster: 1\n",
      "Point:  5 Cluster: 0\n",
      "Point:  6 Cluster: 0\n",
      "Point:  7 Cluster: 2\n",
      "Point:  8 Cluster: 0\n",
      "Point:  9 Cluster: 0\n"
     ]
    }
   ],
   "source": [
    "kmeansclustering(centroid,xy)"
   ]
  }
 ],
 "metadata": {
  "kernelspec": {
   "display_name": "Python 3.8.10 64-bit",
   "language": "python",
   "name": "python3"
  },
  "language_info": {
   "codemirror_mode": {
    "name": "ipython",
    "version": 3
   },
   "file_extension": ".py",
   "mimetype": "text/x-python",
   "name": "python",
   "nbconvert_exporter": "python",
   "pygments_lexer": "ipython3",
   "version": "3.8.10"
  },
  "orig_nbformat": 4,
  "vscode": {
   "interpreter": {
    "hash": "916dbcbb3f70747c44a77c7bcd40155683ae19c65e1c03b4aa3499c5328201f1"
   }
  }
 },
 "nbformat": 4,
 "nbformat_minor": 2
}
