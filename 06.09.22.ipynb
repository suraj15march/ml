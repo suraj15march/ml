{
 "cells": [
  {
   "cell_type": "code",
   "execution_count": 13,
   "metadata": {},
   "outputs": [
    {
     "name": "stdout",
     "output_type": "stream",
     "text": [
      "Mean:  311.1111111111111\n",
      "Median:  300.0\n",
      "Mode:  100\n",
      "Variance:  27654.32098765432\n",
      "Standard deviation:  166.2958838566196\n",
      "Normalized values:  [0.0, 0.2, 0.4, 0.6, 0.2, 0.0, 0.8, 1.0, 0.6]\n",
      "Standardization:  [-1.27, -0.67, -0.07, 0.53, -0.67, -1.27, 1.14, 1.74, 0.53]\n"
     ]
    }
   ],
   "source": [
    "def mean(li):\n",
    "    n=len(li)\n",
    "    s=sum(li)\n",
    "    return s/n\n",
    "def median(li):\n",
    "    n=len(li)\n",
    "    if(n%2==0):\n",
    "        return li[n//2]\n",
    "    else:\n",
    "        return (li[n//2]+li[n//2-1])/2\n",
    "def mode(li):\n",
    "    d=dict()\n",
    "    for ele in li:\n",
    "        if ele in d:\n",
    "            d[ele]+=1\n",
    "        else:\n",
    "            d[ele]=1\n",
    "    max_values=0\n",
    "    max_ele=0\n",
    "    for key,values in d.items():\n",
    "        if(values>max_values):\n",
    "            max_values=values\n",
    "            max_ele=key\n",
    "    return max_ele\n",
    "def variance(li):\n",
    "    sum=0\n",
    "    m=mean(li)\n",
    "    n=len(li)\n",
    "    for ele in li:\n",
    "        sum+=(ele-m)**2\n",
    "    return sum/n\n",
    "def std(li):\n",
    "    return variance(li)**0.5\n",
    "def normalization(li):\n",
    "    min_ele=min(li)\n",
    "    max_ele=max(li)\n",
    "    a=[]\n",
    "    for ele in li:\n",
    "        res=(ele-min_ele)/(max_ele-min_ele)\n",
    "        a.append(round(res,2))\n",
    "    return a\n",
    "def standardization(li):\n",
    "    m=mean(li)\n",
    "    a=[]\n",
    "    s=std(li)\n",
    "    for ele in li:\n",
    "        res=(ele-m)/s\n",
    "        a.append(round(res,2))\n",
    "    return a\n",
    "li=[100,200,300,400,200,100,500,600,400]\n",
    "print(\"Mean: \",mean(li))\n",
    "print(\"Median: \",median(li))\n",
    "print(\"Mode: \",mode(li))\n",
    "print(\"Variance: \",variance(li))\n",
    "print(\"Standard deviation: \",std(li))\n",
    "print(\"Normalized values: \" ,normalization(li))\n",
    "print(\"Standardization: \",standardization(li))\n",
    "\n"
   ]
  },
  {
   "cell_type": "code",
   "execution_count": 29,
   "metadata": {},
   "outputs": [
    {
     "name": "stdout",
     "output_type": "stream",
     "text": [
      "     455    454\n",
      "0  False  False\n",
      "1  False   True\n",
      "2   True  False\n",
      "3  False  False\n",
      "4  False  False\n",
      "5  False  False\n",
      "6   True  False\n",
      "7  False   True\n",
      "8  False  False\n",
      "     455    454\n",
      "5  454.0  565.0\n"
     ]
    }
   ],
   "source": [
    "import pandas as pd\n",
    "import numpy as np\n",
    "\n",
    "df=pd.read_csv(\"data.csv\")\n",
    "df=df.iloc[:,2:4]\n",
    "print(df.isnull())\n",
    "print(df[df.duplicated()])"
   ]
  }
 ],
 "metadata": {
  "interpreter": {
   "hash": "f9f85f796d01129d0dd105a088854619f454435301f6ffec2fea96ecbd9be4ac"
  },
  "kernelspec": {
   "display_name": "Python 3 (ipykernel)",
   "language": "python",
   "name": "python3"
  },
  "language_info": {
   "codemirror_mode": {
    "name": "ipython",
    "version": 3
   },
   "file_extension": ".py",
   "mimetype": "text/x-python",
   "name": "python",
   "nbconvert_exporter": "python",
   "pygments_lexer": "ipython3",
   "version": "3.10.5"
  }
 },
 "nbformat": 4,
 "nbformat_minor": 2
}
